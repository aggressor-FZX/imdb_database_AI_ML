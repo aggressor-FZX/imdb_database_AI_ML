{
 "cells": [
  {
   "cell_type": "markdown",
   "metadata": {},
   "source": [
    "# IMDB exploratory data analysis to isolate factors which contribute most to movie profitability or popularity"
   ]
  },
  {
   "cell_type": "code",
   "execution_count": null,
   "metadata": {},
   "outputs": [],
   "source": [
    "#need to make a table that has the top 33% of movies by popularity, with ratings over 7.0, and actors/actresses in the cast\n",
    "#need to include the actor/actress name, movie name, rating, profit, and popularity\n",
    "#adjust as needed\n",
    "cte_mega_string = \"\"\"\n",
    "-- Drop the temporary table if it already exists\n",
    "IF OBJECT_ID('tempdb..#topmovies2000') IS NOT NULL\n",
    "    DROP TABLE #topmovies2000;\n",
    "\n",
    "WITH FilteredRatings AS (\n",
    "    SELECT tconst, averageRating, numVotes\n",
    "    FROM dbo.ratings\n",
    "    WHERE averageRating > 7.0\n",
    "),\n",
    "--break list by popularity into n-tile\n",
    "FilteredPopularity AS (\n",
    "    Select\n",
    "        imdb_id,\n",
    "        popularity,\n",
    "        genres,\n",
    "        overview,\n",
    "        ProductionCompanies,\n",
    "        NTILE(3) OVER (ORDER BY popularity DESC) AS popularity_percentile \n",
    "    from dbo.meta\n",
    "),\n",
    "FilteredBasics AS (\n",
    "    SELECT tconst, primaryTitle, startYear, runtimeMinutes\n",
    "    FROM dbo.basics\n",
    "    WHERE startYear >= 2000\n",
    "),\n",
    "Budget AS (\n",
    "    SELECT imdb_id, budget, (revenue - budget) AS profit\n",
    "    FROM dbo.meta\n",
    ")\n",
    "SELECT DISTINCT\n",
    "    cast.tconst, -- movie number unique id\n",
    "    base.primaryTitle, --movie name\n",
    "    cast.category,\n",
    "    rates.averageRating, -- ratings\n",
    "    nam.primaryName AS actor_name,\n",
    "    budget.budget,\n",
    "    budget.profit,\n",
    "    pop.popularity,\n",
    "    pop.genres,\n",
    "    pop.ProductionCompanies,\n",
    "    pop.overview\n",
    "\n",
    "FROM dbo.principals AS cast\n",
    "JOIN FilteredBasics AS base ON base.tconst = cast.tconst\n",
    "JOIN FilteredRatings AS rates ON rates.tconst = cast.tconst\n",
    "JOIN budget on budget.imdb_id = cast.tconst\n",
    "JOIN dbo.name AS nam ON nam.nconst = cast.nconst\n",
    "JOIN FilteredPopularity AS pop ON pop.imdb_id = cast.tconst\n",
    "WHERE cast.category IN ('actor', 'actress')\n",
    "    AND pop.popularity_percentile = 1\n",
    "ORDER BY pop.popularity DESC;\n",
    "\"\"\"\n"
   ]
  },
  {
   "cell_type": "code",
   "execution_count": null,
   "metadata": {},
   "outputs": [],
   "source": [
    "import pyodbc\n",
    "import pandas as pd\n",
    "from sqlalchemy import create_engine\n",
    "# connection details\n",
    "server = 'sourcetoshare.database.windows.net'\n",
    "database = 'imdb'\n",
    "username = 'jeffrey'\n",
    "password = 'PASSWORD####'\n",
    "driver = 'ODBC Driver 17 for SQL Server'\n",
    "\n",
    "\n",
    "# Create the connection string in SQLAlchemy format\n",
    "conn_string = f'mssql+pyodbc://{username}:{password}@{server}/{database}?driver={driver.replace(\" \", \"+\")}'\n",
    "\n",
    "# Create the SQLAlchemy engine\n",
    "engine = create_engine(conn_string)\n",
    "# Execute the query and load the data into a pandas DataFrame\n",
    "cte_df = pd.read_sql(cte_mega_string, conn_string)\n",
    "\n",
    "# Display the first few rows of the dataframe\n",
    "print(cte_df.head())"
   ]
  },
  {
   "cell_type": "code",
   "execution_count": null,
   "metadata": {},
   "outputs": [],
   "source": [
    "# first we need to clean up the data\n",
    "# 1. remove empties\n",
    "cte_df = cte_df.dropna()\n",
    "# 2. remove entries with budgets of zero\n",
    "cte_df = cte_df[cte_df['budget'] != 0]\n",
    "#Creates a new binary column for each unique actor name. \n",
    "dummies_df = pd.get_dummies(cte_df, columns=['actor_name'])\n",
    "dummies_df.head(n=5)\n"
   ]
  },
  {
   "cell_type": "code",
   "execution_count": null,
   "metadata": {},
   "outputs": [],
   "source": [
    "# We'll start easy by just using the profit and popularity columns\n",
    "correlation = dummies_df[['profit', 'popularity']].corr()\n",
    "print(correlation)"
   ]
  },
  {
   "cell_type": "code",
   "execution_count": null,
   "metadata": {},
   "outputs": [],
   "source": [
    "# Now we'll use all the actor columns and the popularity column, since we're interested in the relationship between the actors and the popularity of the movie\n",
    "# We'll select all columns that start with 'actor_'\n",
    "#since there are a ton of names we'll use a loop to create a bunch of columns\n",
    "selected_columns = ['popularity'] + [col for col in dummies_df.columns if col.startswith('actor_')]\n",
    "print(selected_columns[0:10])"
   ]
  },
  {
   "cell_type": "code",
   "execution_count": null,
   "metadata": {},
   "outputs": [],
   "source": [
    "# Create a new dataframe with only the selected columns\n",
    "new_df = dummies_df[selected_columns]\n",
    "\n",
    "# Calculate the correlation matrix\n",
    "pop_matrix = new_df.corr()\n",
    "\n",
    "# remove the 100 correlation with itself\n",
    "pop_matrix = pop_matrix.drop('popularity')\n",
    "\n",
    "# Remove the 'actor_' prefix from the index\n",
    "pop_matrix.index = pop_matrix.index.str.replace('actor_name_', '')\n",
    "\n",
    "# Display the correlation matrix\n",
    "pop_matrix= pop_matrix['popularity'].sort_values(ascending=False)\n",
    "\n",
    "print(pop_matrix)"
   ]
  },
  {
   "cell_type": "markdown",
   "metadata": {},
   "source": [
    "# Correlation results for popularity and actors\n",
    "# Those are not high correlations values. The presence of any actor does not seem to have a significant impact on the popularity of the movie."
   ]
  },
  {
   "cell_type": "code",
   "execution_count": null,
   "metadata": {},
   "outputs": [],
   "source": [
    "# Now we'll use all the actor columns and the  column, since we're interested in the relationship between the actors and the profit of the movie\n",
    "selected_columns = ['profit'] + [col for col in dummies_df.columns if col.startswith('actor_')]\n",
    "\n",
    "\n",
    "# Create a new dataframe with only the selected columns\n",
    "new_df = dummies_df[selected_columns]\n",
    "\n",
    "# Calculate the correlation matrix\n",
    "profit_matrix = new_df.corr()\n",
    "\n",
    "# remove the 100 correlation with itself\n",
    "profit_matrix = profit_matrix.drop('profit')\n",
    "\n",
    "\n",
    "# Remove the 'actor_' prefix from the index\n",
    "profit_matrix = profit_matrix['profit'].sort_values(ascending=False)\n",
    "profit_matrix.index = profit_matrix.index.str.replace('actor_name_', '')\n",
    "\n",
    "# Display the correlation matrix\n",
    "print(profit_matrix)"
   ]
  },
  {
   "cell_type": "markdown",
   "metadata": {},
   "source": [
    "# Correlation result for profit and actors:\n",
    "# Those are not high correlations values. The presence of any actor does not seem to have a significant impact on the profit of the movie."
   ]
  },
  {
   "cell_type": "code",
   "execution_count": null,
   "metadata": {},
   "outputs": [],
   "source": [
    "import matplotlib.pyplot as plt\n",
    "import seaborn as sns\n",
    "\n",
    "\n",
    "# Calculate the correlation matrixa Keep only the top 10 and bottom 10 correlations\n",
    "top_10 = pop_matrix.head(10)\n",
    "bottom_10 = pop_matrix.tail(10)\n",
    "top_bottom_20 = pd.concat([top_10, bottom_10])\n",
    "\n",
    "# Display the modified correlation series\n",
    "# Plot the correlations\n",
    "\n",
    "plt.figure(figsize=(10, 8))\n",
    "sns.barplot(x=top_bottom_20.values, y=top_bottom_20.index)\n",
    "plt.xlabel('Correlation with Popularity')\n",
    "plt.ylabel('Main Actor/Actress')\n",
    "plt.title('Correlation of Actor Presence with Movie Popularity')\n",
    "plt.show()"
   ]
  },
  {
   "cell_type": "code",
   "execution_count": null,
   "metadata": {},
   "outputs": [],
   "source": [
    "\n",
    "# Calculate the correlation  Keep only the top 10 and bottom 10 correlations\n",
    "top_10 = profit_matrix.head(10)\n",
    "bottom_10 = profit_matrix.tail(10)\n",
    "top_bottom_20 = pd.concat([top_10, bottom_10])\n",
    "\n",
    "# Display the modified correlation series\n",
    "# Plot the correlations\n",
    "\n",
    "plt.figure(figsize=(10, 8))\n",
    "sns.barplot(x=top_bottom_20.values, y=top_bottom_20.index)\n",
    "plt.xlabel('Correlation with Profit')\n",
    "plt.ylabel('Main Actor/Actress')\n",
    "plt.title('Correlation of Actor Presence with Movie Profit')\n",
    "plt.show()"
   ]
  },
  {
   "cell_type": "markdown",
   "metadata": {},
   "source": [
    " # I found this odd. Anyone see something I am doing wrong? I will do a random forrest now to see which factor contributes the most to popularity and profit. That will also to rank them. I thought for sure this star-power would matter more than this, but perhaps when I compare it to the other variables which may influence popularity or profit, star-power may yet be at the top.\n",
    " # I realized after talking with Derrick that I can't form a correlation with a list of names even if I matrix them. So this isn't correlating what I think it is. It isn't doing anything meaningful. I feel dumb... moving on.\n"
   ]
  },
  {
   "cell_type": "code",
   "execution_count": null,
   "metadata": {},
   "outputs": [],
   "source": [
    "import numpy as np\n",
    "from sklearn.model_selection import train_test_split\n",
    "from sklearn.ensemble import RandomForestRegressor\n",
    "from sklearn.metrics import confusion_matrix, accuracy_score\n",
    "from sklearn.preprocessing import StandardScaler\n",
    "from sklearn.ensemble import RandomForestRegressor\n",
    "\n",
    "# We assign a target for the random forest model:\n",
    "target_column = 'profit'\n",
    "\n",
    "# Create a new data frame suitable for the random forest model\n",
    "# shallow copy: dataframe copy() method, to make sure we don't alter the original data\n",
    "rand_forrest_df = cte_df.copy()\n",
    "\n",
    "# try to drop columns which are not useful espcially if they are strings\n",
    "for col in rand_forrest_df.columns: #iterate through all columns\n",
    "    if rand_forrest_df[col].dtype == 'object': # if the column is a string\n",
    "\n",
    "        # then drop the column if it is not actor name genres or production companies\n",
    "        if col not in ['actor_name', 'genres', 'ProductionCompanies']: \n",
    "            rand_forrest_df.drop(columns=[col], inplace=True)\n",
    "\n",
    "print(rand_forrest_df.columns)\n",
    "print(rand_forrest_df.head())"
   ]
  },
  {
   "cell_type": "code",
   "execution_count": null,
   "metadata": {},
   "outputs": [],
   "source": [
    "\n",
    "# Separate features and target (profit)\n",
    "\n",
    "features = rand_forrest_df.drop(columns=[target_column])\n",
    "target = rand_forrest_df[target_column]\n",
    "\n",
    "# One-hot encode the categorical features (actor names, genres, production companies...)\n",
    "\n",
    "for column in features.select_dtypes(include=['object']).columns:\n",
    "    # Encode, append in place\n",
    "    features = pd.concat([features, pd.get_dummies(features[column], prefix=column)], axis=1) \n",
    "    features.drop(column, axis=1, inplace=True) #drop the original column\n",
    "\n",
    "print(features.size)\n",
    "print(features.head())\n"
   ]
  },
  {
   "cell_type": "code",
   "execution_count": null,
   "metadata": {},
   "outputs": [],
   "source": [
    "\n",
    "# Split into training and testing data\n",
    "# Testing on 30% of the data\n",
    "x_train, x_test, y_train, y_test = train_test_split(features, target, test_size=0.3, random_state=42)\n",
    "\n",
    "# Initialize the random forest model\n",
    "# n_estimators is the number of trees in the forest\n",
    "# random_state is the seed used by the random number generator\n",
    "rand_for = RandomForestRegressor(n_estimators=100, random_state=42)\n",
    "\n",
    "# Train the model\n",
    "rand_for.fit(x_train, y_train)\n",
    "\n",
    "# Predict the profit on the test seta\n",
    "y_predict = rand_for.predict(x_test)\n",
    "\n",
    "# Calculate the mean squared error\n",
    "mse = np.mean((y_predict - y_test) ** 2)\n",
    "print(f\"Mean Squared Error (MSE): {mse}\")\n",
    "\n",
    "# report the accuracy of the model\n",
    "r2_score = rand_for.score(x_test, y_test)\n",
    "print(f\"R² (Model Accuracy): {r2_score}\")\n"
   ]
  },
  {
   "cell_type": "code",
   "execution_count": null,
   "metadata": {},
   "outputs": [],
   "source": [
    "# Let's get a list of the most important features\n",
    "# And get a visual representation of the importance of each feature\n",
    "# There are way too many to display all of them, so we'll just display the top 10\n",
    "\n",
    "import matplotlib.pyplot as plt\n",
    "import numpy as np\n",
    "\n",
    "# Get the feature importances, and the feature names\n",
    "features_importance = rand_for.feature_importances_\n",
    "feature_names = features.columns\n",
    "\n",
    "# Create a dataframe with the feature importances\n",
    "feature_df = pd.DataFrame({\n",
    "    'Feature': feature_names,\n",
    "    'Importance': features_importance\n",
    "})\n",
    "feature_df = feature_df.sort_values(by='Importance', ascending=False)\n",
    "\n",
    "top_10_features = feature_df.head(50)\n",
    "\n",
    "# plotting the feature importances\n",
    "plt.figure(figsize=(13, 30))\n",
    "plt.barh(top_10_features['Feature'], top_10_features['Importance'], color='skyblue')\n",
    "# Add labels\n",
    "plt.title('Feature Importance')\n",
    "plt.xticks(np.arange(0, 0.2, 0.02))\n",
    "plt.xlabel('Importance')\n",
    "plt.ylabel('Feature')\n",
    "plt.show()"
   ]
  },
  {
   "cell_type": "markdown",
   "metadata": {},
   "source": [
    "# The plot generated by the provided code is a horizontal bar plot that visualizes the importance of the top 10 features in your trained RandomForestRegressor model.  Feature importance is a measure of how much each feature contributes to the model's predictions. Higher importance values indicate that the feature has a greater impact on the model's output.\n",
    "\n",
    "\n",
    "# Not suprisingly the budget and popularity and things that are clearly related to profit are most predictive. But since we cannot control those things we can draw a conclusion that the most predictive and controllable thing is the production company, namely a big budget one like Warner Bros, Hedya Films, whoever they are.\n",
    "\n",
    "# But why in #()RT#%&*()# can't we get the actors effect! Let's remove the other variables and see what happens:\n"
   ]
  },
  {
   "cell_type": "code",
   "execution_count": null,
   "metadata": {},
   "outputs": [
    {
     "name": "stdout",
     "output_type": "stream",
     "text": [
      "Index(['actor_name', 'profit'], dtype='object')\n",
      "       actor_name     profit\n",
      "0   Aaron Eckhart  819558444\n",
      "1  Christian Bale  819558444\n",
      "2  Cillian Murphy  819558444\n",
      "3     Gary Oldman  819558444\n",
      "4    Heath Ledger  819558444\n"
     ]
    },
    {
     "ename": "ValueError",
     "evalue": "at least one array or dtype is required",
     "output_type": "error",
     "traceback": [
      "\u001b[1;31m---------------------------------------------------------------------------\u001b[0m",
      "\u001b[1;31mValueError\u001b[0m                                Traceback (most recent call last)",
      "\u001b[1;32m~\\AppData\\Local\\Temp\\ipykernel_15432\\2696419893.py\u001b[0m in \u001b[0;36m<cell line: 26>\u001b[1;34m()\u001b[0m\n\u001b[0;32m     24\u001b[0m \u001b[1;33m\u001b[0m\u001b[0m\n\u001b[0;32m     25\u001b[0m \u001b[1;31m# Train the model\u001b[0m\u001b[1;33m\u001b[0m\u001b[1;33m\u001b[0m\u001b[0m\n\u001b[1;32m---> 26\u001b[1;33m \u001b[0mrand_for\u001b[0m\u001b[1;33m.\u001b[0m\u001b[0mfit\u001b[0m\u001b[1;33m(\u001b[0m\u001b[0mx_train\u001b[0m\u001b[1;33m,\u001b[0m \u001b[0my_train\u001b[0m\u001b[1;33m)\u001b[0m\u001b[1;33m\u001b[0m\u001b[1;33m\u001b[0m\u001b[0m\n\u001b[0m\u001b[0;32m     27\u001b[0m \u001b[1;33m\u001b[0m\u001b[0m\n\u001b[0;32m     28\u001b[0m \u001b[1;31m# Predict the profit on the test seta\u001b[0m\u001b[1;33m\u001b[0m\u001b[1;33m\u001b[0m\u001b[0m\n",
      "\u001b[1;32mc:\\Users\\jeffd\\AppData\\Local\\Programs\\Python\\Python39\\lib\\site-packages\\sklearn\\base.py\u001b[0m in \u001b[0;36mwrapper\u001b[1;34m(estimator, *args, **kwargs)\u001b[0m\n\u001b[0;32m   1471\u001b[0m                 )\n\u001b[0;32m   1472\u001b[0m             ):\n\u001b[1;32m-> 1473\u001b[1;33m                 \u001b[1;32mreturn\u001b[0m \u001b[0mfit_method\u001b[0m\u001b[1;33m(\u001b[0m\u001b[0mestimator\u001b[0m\u001b[1;33m,\u001b[0m \u001b[1;33m*\u001b[0m\u001b[0margs\u001b[0m\u001b[1;33m,\u001b[0m \u001b[1;33m**\u001b[0m\u001b[0mkwargs\u001b[0m\u001b[1;33m)\u001b[0m\u001b[1;33m\u001b[0m\u001b[1;33m\u001b[0m\u001b[0m\n\u001b[0m\u001b[0;32m   1474\u001b[0m \u001b[1;33m\u001b[0m\u001b[0m\n\u001b[0;32m   1475\u001b[0m         \u001b[1;32mreturn\u001b[0m \u001b[0mwrapper\u001b[0m\u001b[1;33m\u001b[0m\u001b[1;33m\u001b[0m\u001b[0m\n",
      "\u001b[1;32mc:\\Users\\jeffd\\AppData\\Local\\Programs\\Python\\Python39\\lib\\site-packages\\sklearn\\ensemble\\_forest.py\u001b[0m in \u001b[0;36mfit\u001b[1;34m(self, X, y, sample_weight)\u001b[0m\n\u001b[0;32m    361\u001b[0m             \u001b[1;32mraise\u001b[0m \u001b[0mValueError\u001b[0m\u001b[1;33m(\u001b[0m\u001b[1;34m\"sparse multilabel-indicator for y is not supported.\"\u001b[0m\u001b[1;33m)\u001b[0m\u001b[1;33m\u001b[0m\u001b[1;33m\u001b[0m\u001b[0m\n\u001b[0;32m    362\u001b[0m \u001b[1;33m\u001b[0m\u001b[0m\n\u001b[1;32m--> 363\u001b[1;33m         X, y = self._validate_data(\n\u001b[0m\u001b[0;32m    364\u001b[0m             \u001b[0mX\u001b[0m\u001b[1;33m,\u001b[0m\u001b[1;33m\u001b[0m\u001b[1;33m\u001b[0m\u001b[0m\n\u001b[0;32m    365\u001b[0m             \u001b[0my\u001b[0m\u001b[1;33m,\u001b[0m\u001b[1;33m\u001b[0m\u001b[1;33m\u001b[0m\u001b[0m\n",
      "\u001b[1;32mc:\\Users\\jeffd\\AppData\\Local\\Programs\\Python\\Python39\\lib\\site-packages\\sklearn\\base.py\u001b[0m in \u001b[0;36m_validate_data\u001b[1;34m(self, X, y, reset, validate_separately, cast_to_ndarray, **check_params)\u001b[0m\n\u001b[0;32m    648\u001b[0m                 \u001b[0my\u001b[0m \u001b[1;33m=\u001b[0m \u001b[0mcheck_array\u001b[0m\u001b[1;33m(\u001b[0m\u001b[0my\u001b[0m\u001b[1;33m,\u001b[0m \u001b[0minput_name\u001b[0m\u001b[1;33m=\u001b[0m\u001b[1;34m\"y\"\u001b[0m\u001b[1;33m,\u001b[0m \u001b[1;33m**\u001b[0m\u001b[0mcheck_y_params\u001b[0m\u001b[1;33m)\u001b[0m\u001b[1;33m\u001b[0m\u001b[1;33m\u001b[0m\u001b[0m\n\u001b[0;32m    649\u001b[0m             \u001b[1;32melse\u001b[0m\u001b[1;33m:\u001b[0m\u001b[1;33m\u001b[0m\u001b[1;33m\u001b[0m\u001b[0m\n\u001b[1;32m--> 650\u001b[1;33m                 \u001b[0mX\u001b[0m\u001b[1;33m,\u001b[0m \u001b[0my\u001b[0m \u001b[1;33m=\u001b[0m \u001b[0mcheck_X_y\u001b[0m\u001b[1;33m(\u001b[0m\u001b[0mX\u001b[0m\u001b[1;33m,\u001b[0m \u001b[0my\u001b[0m\u001b[1;33m,\u001b[0m \u001b[1;33m**\u001b[0m\u001b[0mcheck_params\u001b[0m\u001b[1;33m)\u001b[0m\u001b[1;33m\u001b[0m\u001b[1;33m\u001b[0m\u001b[0m\n\u001b[0m\u001b[0;32m    651\u001b[0m             \u001b[0mout\u001b[0m \u001b[1;33m=\u001b[0m \u001b[0mX\u001b[0m\u001b[1;33m,\u001b[0m \u001b[0my\u001b[0m\u001b[1;33m\u001b[0m\u001b[1;33m\u001b[0m\u001b[0m\n\u001b[0;32m    652\u001b[0m \u001b[1;33m\u001b[0m\u001b[0m\n",
      "\u001b[1;32mc:\\Users\\jeffd\\AppData\\Local\\Programs\\Python\\Python39\\lib\\site-packages\\sklearn\\utils\\validation.py\u001b[0m in \u001b[0;36mcheck_X_y\u001b[1;34m(X, y, accept_sparse, accept_large_sparse, dtype, order, copy, force_writeable, force_all_finite, ensure_2d, allow_nd, multi_output, ensure_min_samples, ensure_min_features, y_numeric, estimator)\u001b[0m\n\u001b[0;32m   1299\u001b[0m         )\n\u001b[0;32m   1300\u001b[0m \u001b[1;33m\u001b[0m\u001b[0m\n\u001b[1;32m-> 1301\u001b[1;33m     X = check_array(\n\u001b[0m\u001b[0;32m   1302\u001b[0m         \u001b[0mX\u001b[0m\u001b[1;33m,\u001b[0m\u001b[1;33m\u001b[0m\u001b[1;33m\u001b[0m\u001b[0m\n\u001b[0;32m   1303\u001b[0m         \u001b[0maccept_sparse\u001b[0m\u001b[1;33m=\u001b[0m\u001b[0maccept_sparse\u001b[0m\u001b[1;33m,\u001b[0m\u001b[1;33m\u001b[0m\u001b[1;33m\u001b[0m\u001b[0m\n",
      "\u001b[1;32mc:\\Users\\jeffd\\AppData\\Local\\Programs\\Python\\Python39\\lib\\site-packages\\sklearn\\utils\\validation.py\u001b[0m in \u001b[0;36mcheck_array\u001b[1;34m(array, accept_sparse, accept_large_sparse, dtype, order, copy, force_writeable, force_all_finite, ensure_2d, allow_nd, ensure_min_samples, ensure_min_features, estimator, input_name)\u001b[0m\n\u001b[0;32m    885\u001b[0m         )\n\u001b[0;32m    886\u001b[0m         \u001b[1;32mif\u001b[0m \u001b[0mall\u001b[0m\u001b[1;33m(\u001b[0m\u001b[0misinstance\u001b[0m\u001b[1;33m(\u001b[0m\u001b[0mdtype_iter\u001b[0m\u001b[1;33m,\u001b[0m \u001b[0mnp\u001b[0m\u001b[1;33m.\u001b[0m\u001b[0mdtype\u001b[0m\u001b[1;33m)\u001b[0m \u001b[1;32mfor\u001b[0m \u001b[0mdtype_iter\u001b[0m \u001b[1;32min\u001b[0m \u001b[0mdtypes_orig\u001b[0m\u001b[1;33m)\u001b[0m\u001b[1;33m:\u001b[0m\u001b[1;33m\u001b[0m\u001b[1;33m\u001b[0m\u001b[0m\n\u001b[1;32m--> 887\u001b[1;33m             \u001b[0mdtype_orig\u001b[0m \u001b[1;33m=\u001b[0m \u001b[0mnp\u001b[0m\u001b[1;33m.\u001b[0m\u001b[0mresult_type\u001b[0m\u001b[1;33m(\u001b[0m\u001b[1;33m*\u001b[0m\u001b[0mdtypes_orig\u001b[0m\u001b[1;33m)\u001b[0m\u001b[1;33m\u001b[0m\u001b[1;33m\u001b[0m\u001b[0m\n\u001b[0m\u001b[0;32m    888\u001b[0m         \u001b[1;32melif\u001b[0m \u001b[0mpandas_requires_conversion\u001b[0m \u001b[1;32mand\u001b[0m \u001b[0many\u001b[0m\u001b[1;33m(\u001b[0m\u001b[0md\u001b[0m \u001b[1;33m==\u001b[0m \u001b[0mobject\u001b[0m \u001b[1;32mfor\u001b[0m \u001b[0md\u001b[0m \u001b[1;32min\u001b[0m \u001b[0mdtypes_orig\u001b[0m\u001b[1;33m)\u001b[0m\u001b[1;33m:\u001b[0m\u001b[1;33m\u001b[0m\u001b[1;33m\u001b[0m\u001b[0m\n\u001b[0;32m    889\u001b[0m             \u001b[1;31m# Force object if any of the dtypes is an object\u001b[0m\u001b[1;33m\u001b[0m\u001b[1;33m\u001b[0m\u001b[0m\n",
      "\u001b[1;31mValueError\u001b[0m: at least one array or dtype is required"
     ]
    }
   ],
   "source": [
    "actor_df = cte_df.copy()\n",
    "for col in actor_df.columns: #iterate through all columns\n",
    "    if actor_df[col].dtype == 'object': # if the column is a string\n",
    "        # then drop the column if it is not actor name genres or production companies\n",
    "        if col != 'actor_name': \n",
    "            actor_df.drop(columns=[col], inplace=True)\n",
    "actor_df.drop(columns=['budget', 'popularity', 'averageRating'], inplace=True)\n",
    "#test and see if it worked\n",
    "print(actor_df.columns)\n",
    "print(actor_df.head())\n",
    "# Separate features and target (profit)\n",
    "actor_feat = actor_df.drop(columns=[target_column])\n",
    "target = actor_df[target_column]\n",
    "# One-hot encode the names of actors\n",
    "for column in actor_feat.select_dtypes(include=['object']).columns:\n",
    "    # Encode, append in place\n",
    "    features = pd.concat([actor_feat, pd.get_dummies(actor_feat[column], prefix=column)], axis=1) \n",
    "    actor_feat.drop(column, axis=1, inplace=True) #drop the original column\n",
    "# Split into training and testing data\n",
    "x_train, x_test, y_train, y_test = train_test_split(actor_feat, target, test_size=0.3, random_state=42)\n",
    "\n",
    "\n",
    "rand_for = RandomForestRegressor(n_estimators=100, random_state=42)\n",
    "\n",
    "# Train the model\n",
    "rand_for.fit(x_train, y_train)\n",
    "\n",
    "# Predict the profit on the test seta\n",
    "y_predict = rand_for.predict(x_test)\n",
    "\n",
    "# Calculate the mean squared error\n",
    "mse = np.mean((y_predict - y_test) ** 2)\n",
    "print(f\"Mean Squared Error (MSE): {mse}\"):w\n",
    "\n",
    "\n",
    "# report the accuracy of the model\n",
    "r2_score = rand_for.score(x_test, y_test)\n",
    "print(f\"R² (Model Accuracy): {r2_score}\")"
   ]
  },
  {
   "cell_type": "code",
   "execution_count": 74,
   "metadata": {},
   "outputs": [
    {
     "data": {
      "image/png": "[encoded data removed]",
      "text/plain": [
       "<Figure size 1300x3000 with 1 Axes>"
      ]
     },
     "metadata": {},
     "output_type": "display_data"
    }
   ],
   "source": [
    "\n",
    "features_importance = rand_for.feature_importances_\n",
    "feature_names = actor_feat.columns\n",
    "\n",
    "# Create a dataframe with the feature importances\n",
    "feature_df = pd.DataFrame({\n",
    "    'Feature': feature_names,\n",
    "    'Importance': features_importance\n",
    "})\n",
    "feature_df = feature_df.sort_values(by='Importance', ascending=False)\n",
    "\n",
    "top_10_features = feature_df.head(10)\n",
    "\n",
    "# plotting the feature importances\n",
    "plt.figure(figsize=(13, 30))\n",
    "plt.barh(top_10_features['Feature'], top_10_features['Importance'], color='skyblue')\n",
    "# Add labels\n",
    "plt.title('Feature Importance')\n",
    "plt.xticks(np.arange(0, 0.2, 0.02))\n",
    "plt.xlabel('Importance')\n",
    "plt.ylabel('Feature')\n",
    "plt.show()"
   ]
  }
 ],
 "metadata": {
  "kernelspec": {
   "display_name": "Python 3",
   "language": "python",
   "name": "python3"
  },
  "language_info": {
   "codemirror_mode": {
    "name": "ipython",
    "version": 3
   },
   "file_extension": ".py",
   "mimetype": "text/x-python",
   "name": "python",
   "nbconvert_exporter": "python",
   "pygments_lexer": "ipython3",
   "version": "3.9.13"
  }
 },
 "nbformat": 4,
 "nbformat_minor": 2
}
